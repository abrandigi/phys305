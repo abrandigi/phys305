{
 "cells": [
  {
   "cell_type": "markdown",
   "id": "0",
   "metadata": {},
   "source": [
    "# Data Modeling I: Probability and Statistics"
   ]
  },
  {
   "cell_type": "markdown",
   "id": "1",
   "metadata": {},
   "source": [
    "## Introduction\n",
    "\n",
    "### Why Probability and Statistics Matter in Science\n",
    "\n",
    "Any physical measurement involves some level of uncertainty or noise.\n",
    "Whether we are measuring the intensity of a star's light, the decay rate of a radioactive sample, or the temperature of the cosmic microwave background, the data we collect are never perfectly exact.\n",
    "Probability theory offers a systematic way to handle this lack of certainty.\n",
    "More specifically:\n",
    "* **Data Interpretation**:\n",
    "  We want to connect noisy observations to underlying physical models.\n",
    "  If a dataset appears to fluctuate, is that signal real, or is it random?\n",
    "  Probability gives us formal tools—like hypothesis testing or confidence intervals—to decide.\n",
    "* **Incomplete Knowledge**:\n",
    "  Even when processes are entirely deterministic at some level, we often lack complete information.\n",
    "  Probability distributions let us quantify the range of possible outcomes or parameter values.\n",
    "* **Unrepeatable Events**:\n",
    "  Fields like astronomy pose a unique challenge: many phenomena (e.g., a supernova) cannot be restarted under controlled conditions.\n",
    "  We must rely on \"fair samples\" of data from one-time observations.\n",
    "  Probability theory becomes crucial for making sense of these non-repeatable experiments.\n",
    "\n",
    "From a broad perspective, probability theory is the logic of science:\n",
    "it extends our classical (Boolean) logic into a realm where conclusions cannot be absolutely certain but can be assigned degrees of belief or confidence."
   ]
  },
  {
   "cell_type": "markdown",
   "id": "2",
   "metadata": {},
   "source": [
    "### Historical Context and Key Contributors\n",
    "\n",
    "Probability theory and its practical offshoot—statistics—did not emerge fully formed.\n",
    "Many scientists who pioneered the subject were themselves astronomers or physicists grappling with noisy measurements:\n",
    "* **Blaise Pascal & Pierre Fermat** (1650s):\n",
    "  Their work on games of chance launched the formal study of probability, initially focusing on gambling problems but laying the groundwork for more general applications.\n",
    "* **Jacob Bernoulli & Thomas Bayes** (18th century):\n",
    "  They introduced foundational ideas on how to assign and update probabilities.\n",
    "  Bayes's Theorem still underlies modern Bayesian statistics, which treats probability as \"degree of belief\" and updates those degrees using observed data.\n",
    "* **Pierre-Simon Laplace & Carl Friedrich Gauss** (late 18th/early 19th century):\n",
    "  Both were astronomers/mathematicians.\n",
    "  Gauss's work on least squares and the \"Gaussian (normal) distribution of errors\" became central to how we handle measurement noise.\n",
    "  Laplace's rediscovery of Bayesian methods brought probability firmly into the domain of scientific data interpretation.\n",
    "* **Frequentist vs. Bayesian** (20th century):\n",
    "  Mathematicians and statisticians debated how best to define, interpret, and use probabilities, especially for inference.\n",
    "  The result was a rich theoretical framework that scientists still apply daily."
   ]
  },
  {
   "cell_type": "markdown",
   "id": "3",
   "metadata": {},
   "source": [
    "### Probability in Observational Fields (e.g., Astronomy)\n",
    "\n",
    "The inherent randomness or incomplete knowledge in data is especially stark in astronomy and astrophysics:\n",
    "1. Detection\n",
    "   * We often ask: \"Is this faint signal real, or is it simply noise?\"\n",
    "   * Probability-based hypothesis testing helps decide when a new source (like an exoplanet transit or a distant supernova) is detected with sufficient confidence.\n",
    "2. Parameter Estimation\n",
    "   * Astronomical models (e.g., cosmological models) include many parameters: densities of matter, dark energy, expansion rates, etc.\n",
    "   * Observed data (galaxy distributions, microwave background fluctuations) are used in conjunction with statistical techniques (maximum likelihood, Bayesian inference) to estimate these parameters and their uncertainties.\n",
    "3. Model Comparison\n",
    "   * Even if multiple models fit the data well (e.g., different dark matter profiles, different supernova light-curve templates), probability theory guides us in choosing which model is \"better supported\" by the data.\n",
    "4. Sampling Limitations\n",
    "   * Astronomers typically cannot control the experiment—can't \"turn off\" a star or \"re-run\" a supernova to see if the same outcome occurs.\n",
    "   * Instead, we rely on collecting large samples across space or time.\n",
    "     Statistical arguments (assuming each event or source is an independent draw from an underlying population) become critical.\n",
    "\n",
    "These points generalize beyond astronomy:\n",
    "any domain with random influences or inherent uncertainty (particle physics, bio-physics experiments, sensor measurement in engineering, etc.) sees a central role for probability."
   ]
  },
  {
   "cell_type": "markdown",
   "id": "4",
   "metadata": {},
   "source": [
    "### Bread-and-Butter Statistical Aims\n",
    "\n",
    "Across all these scientific domains, three recurring tasks stand out:\n",
    "1. Hypothesis Testing\n",
    "   * \"Is the signal real or just random fluctuation?\"\n",
    "   * \"Does this distribution deviate significantly from a known model?\"\n",
    "2. Parameter Estimation\n",
    "   * \"Given a theoretical model with free parameters, which parameter values best explain the observed data?\"\n",
    "   * Example: Fitting a light-curve model to a set of brightness measurements.\n",
    "3. Model Comparison / Model Selection\n",
    "   * \"Which of two (or more) possible models is most consistent with the data?\"\n",
    "   * Are more complex models justified by the evidence, or does a simpler approach suffice?"
   ]
  },
  {
   "cell_type": "markdown",
   "id": "5",
   "metadata": {},
   "source": [
    "## The Central Limit Theorem\n",
    "\n",
    "### Mean and Variance: Powerful Summaries for Large Samples\n",
    "\n",
    "In statistical data analysis, the mean and variance are often our first two diagnostic tools:\n",
    "* **Mean**: Characterizes the typical or central value.\n",
    "* **Variance**: Tells us how spread out the data are around that central value.\n",
    "\n",
    "For small data samples, this may not fully capture all the nuances of a distribution.\n",
    "However, once we collect a large number of measurements, mean and variance often suffice to describe the distribution of their sum (or average)---no matter how the individual measurements looked at first.\n",
    "This is astonishing because you might expect different measurement processes---whether from mechanical vibrations, quantum noise, cosmic events, or sensor errors---should yield drastically different single-sample distributions.\n",
    "And often they do!\n",
    "But the **Central Limit Theorem** states that once we combine many independent samples, the distribution of those combined values approaches a Gaussian, making the mean and variance the key descriptors."
   ]
  },
  {
   "cell_type": "markdown",
   "id": "6",
   "metadata": {},
   "source": [
    "### Demo: Different Underlying Distributions Converge to a \"Bell Shape\"\n",
    "\n",
    "Below is a Python code snippet that demonstrates the Central Limit Theorem for several distinct initial (single-draw) distributions.\n",
    "We'll choose a few classic distributions: uniform, exponential, and poisson, to illustrate how sums of $n$ independent and identically distributed (IID) samples begin to look bell-shaped (Gaussian) as $n$ grows."
   ]
  },
  {
   "cell_type": "code",
   "execution_count": 1,
   "id": "7",
   "metadata": {},
   "outputs": [],
   "source": [
    "import numpy as np\n",
    "import matplotlib.pyplot as plt\n",
    "\n",
    "from scipy.stats import norm"
   ]
  },
  {
   "cell_type": "code",
   "execution_count": 2,
   "id": "8",
   "metadata": {},
   "outputs": [],
   "source": [
    "# Define a set of different distributions (callables) that return samples:\n",
    "\n",
    "dists = {\n",
    "    \"U(0,1)\": lambda size: np.random.uniform    (0, 1,      size=size),\n",
    "    \"E(1.0)\": lambda size: np.random.exponential(scale=1.0, size=size),\n",
    "    \"P(3.0)\": lambda size: np.random.poisson    (lam=3.0,   size=size),\n",
    "}\n",
    "\n",
    "# List of 'n' values (number of draws per sum)\n",
    "ns = 2**(2*np.arange(6))\n",
    "\n",
    "# Number of times we generate each sum\n",
    "n_sums = 1000"
   ]
  },
  {
   "cell_type": "code",
   "execution_count": 3,
   "id": "9",
   "metadata": {},
   "outputs": [
    {
     "ename": "NameError",
     "evalue": "name 'mean' is not defined",
     "output_type": "error",
     "traceback": [
      "\u001b[0;31m---------------------------------------------------------------------------\u001b[0m",
      "\u001b[0;31mNameError\u001b[0m                                 Traceback (most recent call last)",
      "Cell \u001b[0;32mIn[3], line 24\u001b[0m\n\u001b[1;32m     21\u001b[0m ax\u001b[38;5;241m.\u001b[39mplot(xs, gauss)\n\u001b[1;32m     23\u001b[0m \u001b[38;5;66;03m# Formatting\u001b[39;00m\n\u001b[0;32m---> 24\u001b[0m ax\u001b[38;5;241m.\u001b[39mset_title(\u001b[38;5;124mf\u001b[39m\u001b[38;5;124m\"\u001b[39m\u001b[38;5;132;01m{\u001b[39;00mname\u001b[38;5;132;01m}\u001b[39;00m\u001b[38;5;124m, n=\u001b[39m\u001b[38;5;132;01m{\u001b[39;00mn\u001b[38;5;132;01m}\u001b[39;00m\u001b[38;5;130;01m\\n\u001b[39;00m\u001b[38;5;124mMean=\u001b[39m\u001b[38;5;132;01m{\u001b[39;00m\u001b[43mmean\u001b[49m\u001b[38;5;132;01m:\u001b[39;00m\u001b[38;5;124m.1f\u001b[39m\u001b[38;5;132;01m}\u001b[39;00m\u001b[38;5;124m, Std=\u001b[39m\u001b[38;5;132;01m{\u001b[39;00mstd\u001b[38;5;132;01m:\u001b[39;00m\u001b[38;5;124m.1f\u001b[39m\u001b[38;5;132;01m}\u001b[39;00m\u001b[38;5;124m\"\u001b[39m, fontsize\u001b[38;5;241m=\u001b[39m\u001b[38;5;241m9\u001b[39m)\n\u001b[1;32m     25\u001b[0m \u001b[38;5;28;01mif\u001b[39;00m row \u001b[38;5;241m==\u001b[39m \u001b[38;5;28mlen\u001b[39m(dists) \u001b[38;5;241m-\u001b[39m \u001b[38;5;241m1\u001b[39m:\n\u001b[1;32m     26\u001b[0m     ax\u001b[38;5;241m.\u001b[39mset_xlabel(\u001b[38;5;124m\"\u001b[39m\u001b[38;5;124mMean of Samples\u001b[39m\u001b[38;5;124m\"\u001b[39m)\n",
      "\u001b[0;31mNameError\u001b[0m: name 'mean' is not defined"
     ]
    },
    {
     "data": {
      "image/png": "[encoded data removed]",
      "text/plain": [
       "<Figure size 1200x700 with 18 Axes>"
      ]
     },
     "metadata": {},
     "output_type": "display_data"
    }
   ],
   "source": [
    "# Create a figure: rows = number of distributions, columns = number of n_list\n",
    "fig, axes = plt.subplots(len(dists), len(ns), figsize=(12, 7))\n",
    "\n",
    "for row, (name, func) in enumerate(dists.items()):\n",
    "    for col, n in enumerate(ns):\n",
    "        # Generate (n_sums x n) random samples from the chosen distribution\n",
    "        data = func(size=(n_sums, n))\n",
    "\n",
    "        # Average across each row\n",
    "        avgs = np.mean(data, axis=1)\n",
    "        avg  = np.mean(avgs)\n",
    "        std  = np.std (avgs, ddof=1)\n",
    "\n",
    "        # Overlay a Gaussian with that mean, std\n",
    "        xs    = np.linspace(avgs.min(), avgs.max(), 200)\n",
    "        gauss = norm.pdf(xs, loc=avg, scale=std)\n",
    "\n",
    "        # Actuall plotting\n",
    "        ax = axes[row, col]\n",
    "        ax.hist(avgs, bins=64, density=True, alpha=0.5)\n",
    "        ax.plot(xs, gauss)\n",
    "\n",
    "        # Formatting\n",
    "        ax.set_title(f\"{name}, n={n}\\nMean={avg:.1f}, Std={std:.1f}\", fontsize=9)\n",
    "        if row == len(dists) - 1:\n",
    "            ax.set_xlabel(\"Mean of Samples\")\n",
    "        if col == 0:\n",
    "            ax.set_ylabel(\"Density\")\n",
    "\n",
    "plt.tight_layout()"
   ]
  },
  {
   "cell_type": "markdown",
   "id": "10",
   "metadata": {},
   "source": [
    "* Despite stark differences in how each single draw is generated, once you sum many draws, you see a clear tendency toward a Gaussian distribution (consistent with the Central Limit Theorem).\n",
    "* For small $n$, the sum's histogram resembles the original distribution. As n grows, the sum's shape becomes smoother and bell-like, and just knowing the mean and variance of those sums provides an excellent approximation of the entire distribution."
   ]
  },
  {
   "cell_type": "markdown",
   "id": "11",
   "metadata": {},
   "source": [
    "### Statement of the Central Limit Theorem (CLT)\n",
    "\n",
    "If you add up (or average) a large number of independent and identically distributed (IID) random variables, each with a finite mean $\\mu$ and finite variance $\\sigma^2$, then the distribution of those sums (or averages) converges to a Gaussian (Normal) distribution as $n$ grows.\n",
    "\n",
    "Formally:\n",
    "1. Let $X_1$, $X_2$, $\\dots$, $X_n$ be IID random variables with mean $\\mu$ and variance $\\sigma^2$.\n",
    "2. Define the sum $S_n = X_1 + X_2 + \\dots + X_n$ and the average $\\bar{X} = S_n / n$.\n",
    "3. Then\n",
    "   \\begin{align}\n",
    "     \\lim_{n\\to\\infty}\\frac{S_n - n\\mu}{\\sqrt{n}\\,\\sigma} = \\mathcal{N}(0,1)\n",
    "   \\end{align}\n",
    "   This states that after appropriate centering and scaling, $S_n$ behaves like a normal distribution with mean $n\\mu$ and variance $n\\sigma^2$."
   ]
  },
  {
   "cell_type": "markdown",
   "id": "12",
   "metadata": {},
   "source": [
    "### Proof Sketch with Characteristic Functions\n",
    "\n",
    "While the Python demo gives an empirical feel, here's a brief outline of why the CLT holds:\n",
    "1. **Characteristic Function**:\n",
    "   A random variable $X$ has characteristic function\n",
    "   \\begin{align}\n",
    "     \\phi_X(k) = \\langle e^{ikX}\\rangle = \\int e^{ikx} f_X(x) dx.\n",
    "   \\end{align}\n",
    "   The characteristic function has two useful properties for this proof:\n",
    "   * For small $k$,\n",
    "     \\begin{align}\n",
    "       \\phi_X(k) \\approx \\int (1 + ikx - \\frac{1}{2}k^2x^2) f_X(x) dx = 1 + ik\\mu - \\frac{1}{2}k^2\\sigma^2.\n",
    "     \\end{align}\n",
    "   * For independent variables, the characteristic function of a sum is the product of the individual characteristic functions."
   ]
  },
  {
   "cell_type": "markdown",
   "id": "13",
   "metadata": {},
   "source": [
    "2. **Change of Variable**:\n",
    "   Define $Y_j = (X_j - \\mu)/\\sigma$, we have $\\langle Y_j \\rangle = 0$ and $\\text{var}(Y_j) = 1$.\n",
    "   Therefore,\n",
    "   \\begin{align}\n",
    "     Z_n \\equiv \\frac{S_n - n\\mu}{\\sqrt{n}\\sigma} = \\sum_j \\frac{Y_j}{\\sqrt{n}}.\n",
    "   \\end{align}"
   ]
  },
  {
   "cell_type": "markdown",
   "id": "14",
   "metadata": {},
   "source": [
    "3. **Sum of IID Variables**:\n",
    "   As a result,\n",
    "   \\begin{align}\n",
    "     \\phi_{Z_n}(k)\n",
    "     \\;=\\; \\prod_{j=1}^n \\phi_{Y_j}\\left(\\frac{k}{\\sqrt{n}}\\right)\n",
    "     \\;=\\; \\left[\\phi_{Y_1}\\left(\\frac{k}{\\sqrt{n}}\\right)\\right]^n.\n",
    "   \\end{align}"
   ]
  },
  {
   "cell_type": "markdown",
   "id": "15",
   "metadata": {},
   "source": [
    "4. **Expansion**:\n",
    "   For small $k$ and/or large $n$:\n",
    "   \\begin{align}\n",
    "     \\phi_{Y_1}\\!\\left(\\frac{k}{\\sqrt{n}}\\right)\n",
    "     \\approx 1 - \\frac{k^2}{2n}.\n",
    "   \\end{align}"
   ]
  },
  {
   "cell_type": "markdown",
   "id": "16",
   "metadata": {},
   "source": [
    "5. **Raise to $n$th Power**:\n",
    "   \\begin{align}\n",
    "     \\phi_{Z_n}(k) = \\left[\\phi_{Y_1}\\!\\left(\\frac{k}{\\sqrt{n}}\\right)\\right]^n\n",
    "     \\approx \\left[1 - \\frac{k^2}{2n}\\right]^n\n",
    "     \\to e^{- k^2/2}\n",
    "     \\quad\\text{as}\\quad n\\to\\infty.\n",
    "   \\end{align}\n",
    "   The limit on the right is exactly the characteristic function of a Gaussian of variable $Y_j$ with mean $0$ and variance $1$.\n",
    "   Transform back to $X_j$, we conclude that $S_n$ (appropriately scaled) converges in distribution to a Gaussian, establishing the Central Limit Theorem."
   ]
  },
  {
   "cell_type": "markdown",
   "id": "17",
   "metadata": {},
   "source": [
    "### Consequences for Data Analysis\n",
    "\n",
    "* **Gaussian-Like Errors**:\n",
    "  Different instruments or phenomena might yield drastically different single-measurement distributions.\n",
    "  Yet, aggregating many such independent measurements leads to near-Gaussian error distributions.\n",
    "* **Reliance on Mean & Variance**:\n",
    "  By the CLT, for large $n$, it's often enough to report the mean and variance to describe the resulting measurement distribution.\n",
    "* **Practical**:\n",
    "  Confidence intervals, hypothesis testing, and parameter estimation in physics commonly assume normality of the mean—an assumption justified by the CLT when sample sizes are large (and variables are independent)."
   ]
  },
  {
   "cell_type": "markdown",
   "id": "18",
   "metadata": {},
   "source": [
    "## Foundational Probability Distributions\n",
    "\n",
    "In many scientific measurements, certain probability distributions occur frequently.\n",
    "These \"workhorse\" distributions (Binomial, Poisson, and Gaussian) describe scenarios spanning from simple binary-outcome trials to counting rare events to modeling aggregated measurement errors."
   ]
  },
  {
   "cell_type": "markdown",
   "id": "19",
   "metadata": {},
   "source": [
    "### Binomial Distribution\n",
    "\n",
    "The Binomial distribution appears whenever you have:\n",
    "1. A fixed number $N$ of independent trials.\n",
    "2. Each trial can be classified as \"success\" or \"failure\" (two possible outcomes).\n",
    "3. The probability of success $p$ remains the same for all trials."
   ]
  },
  {
   "cell_type": "markdown",
   "id": "20",
   "metadata": {},
   "source": [
    "The probability of getting exactly $k$ successes in $N$ trials is given by:\n",
    "\\begin{align}\n",
    "  P(X = k) = {N \\choose k} \\, p^k \\, (1 - p)^{\\,N-k},\n",
    "\\end{align}\n",
    "where ${N \\choose k}$ is the binomial coefficient $N!/k!\\,(N-k)!$."
   ]
  },
  {
   "cell_type": "markdown",
   "id": "21",
   "metadata": {},
   "source": [
    "Mean and Variance:\n",
    "* Mean $= Np$.\n",
    "* Variance $= Np(1-p)$."
   ]
  },
  {
   "cell_type": "markdown",
   "id": "22",
   "metadata": {},
   "source": [
    "Example Uses in Physics/Astronomy\n",
    "* Detector \"trigger\" events:\n",
    "  Suppose a particle detector has an $N$-panel array, each panel having a probability $p$ of registering a passing particle.\n",
    "  The number of \"hit\" panels in one cosmic-ray event follows a Binomial distribution.\n",
    "* Exoplanet detection (simplified):\n",
    "  If you have a catalog of $N$ stars, each with a probability $p$ of showing a transit signal in a particular observation window, the total number of detected transits might approximate a Binomial distribution."
   ]
  },
  {
   "cell_type": "code",
   "execution_count": null,
   "id": "23",
   "metadata": {},
   "outputs": [],
   "source": [
    "# DEMO: Exoplanet Detection Analogy\n",
    "\n",
    "from scipy.stats import binom"
   ]
  },
  {
   "cell_type": "code",
   "execution_count": null,
   "id": "24",
   "metadata": {},
   "outputs": [],
   "source": [
    "# Parameters\n",
    "N = 100   # number of stars observed\n",
    "p = 0.1   # each star has a 10% chance of showing a detectable transit\n",
    "\n",
    "# Range of possible detections\n",
    "ks = np.arange(0, N+1)\n",
    "\n",
    "# Binomial pmf\n",
    "pmf = binom.pmf(ks, N, p)"
   ]
  },
  {
   "cell_type": "code",
   "execution_count": null,
   "id": "25",
   "metadata": {},
   "outputs": [],
   "source": [
    "plt.stem(ks, pmf, basefmt=' ')\n",
    "plt.title(f\"Binomial Distribution: Exoplanet Transits (N={N}, p={p})\")\n",
    "plt.xlabel(\"k = Number of Detected Transits\")\n",
    "plt.ylabel(\"Probability\")"
   ]
  },
  {
   "cell_type": "markdown",
   "id": "26",
   "metadata": {},
   "source": [
    "Interpretation:\n",
    "1. For each of the $N=100$ stars, either we \"see\" a transit (success) or we don't (failure).\n",
    "2. The histogram/probability mass function (PMF) typically peaks near $Np = 10$.\n",
    "3. The spread around that mean is $\\sqrt{Np(1-p)}\\approx 3$."
   ]
  },
  {
   "cell_type": "markdown",
   "id": "27",
   "metadata": {},
   "source": [
    "### Poisson Distribution\n",
    "\n",
    "The Poisson distribution arises as a limit of the Binomial distribution when:\n",
    "* $N\\to\\infty$ (huge number of trials),\n",
    "* $p\\to 0$ (very low probability of success),\n",
    "* but the product $\\lambda = Np$ remains constant."
   ]
  },
  {
   "cell_type": "markdown",
   "id": "28",
   "metadata": {},
   "source": [
    "In that regime, the number of successes X follows\n",
    "\\begin{align}\n",
    "  P(X = k) = \\frac{\\lambda^k\\,e^{-\\lambda}}{k!},\n",
    "\\end{align}\n",
    "where $\\lambda$ is both the mean and the variance of the distribution."
   ]
  },
  {
   "cell_type": "markdown",
   "id": "29",
   "metadata": {},
   "source": [
    "Common in Physics/Astronomy:\n",
    "* Photon Counting:\n",
    "  If a faint source emits photons randomly, the photon arrival counts in a given time interval often follow a Poisson distribution.\n",
    "* Radioactive Decay:\n",
    "  The number of decays per unit time in a small sample can be modeled as Poisson with parameter $\\lambda$.\n",
    "* Cosmic-Ray Hits:\n",
    "  If cosmic rays impinge on a small sensor with a low expected count $\\lambda$ per unit time, the event count is Poisson."
   ]
  },
  {
   "cell_type": "code",
   "execution_count": null,
   "id": "30",
   "metadata": {},
   "outputs": [],
   "source": [
    "# Demo: Photon Arrival Counts\n",
    "\n",
    "from scipy.stats import poisson"
   ]
  },
  {
   "cell_type": "code",
   "execution_count": null,
   "id": "31",
   "metadata": {},
   "outputs": [],
   "source": [
    "# Suppose the star yields an average of 1 photons per 5 second\n",
    "rate = 0.2\n",
    "time = 60.0\n",
    "obs  = rate * time  # total expected photons in the exposure\n",
    "\n",
    "# Simulate a large number of exposures (observations)\n",
    "n_obs  = 100_000\n",
    "counts = np.random.poisson(lam=obs, size=n_obs)"
   ]
  },
  {
   "cell_type": "code",
   "execution_count": null,
   "id": "32",
   "metadata": {},
   "outputs": [],
   "source": [
    "plt.hist(counts, bins=np.arange(30), density=True, label='Simulated')\n",
    "\n",
    "# Overlay theoretical Poisson pmf\n",
    "ks  = bins=np.arange(30)\n",
    "pmf = poisson.pmf(ks, obs)\n",
    "plt.plot(ks, pmf, label='Poisson PMF')\n",
    "\n",
    "plt.title(r'Poisson Photon Counts ($\\lambda$='+f'{obs})')\n",
    "plt.xlabel('Number of Photons Detected')\n",
    "plt.ylabel('Probability')\n",
    "plt.legend()"
   ]
  },
  {
   "cell_type": "markdown",
   "id": "33",
   "metadata": {},
   "source": [
    "Interpretation\n",
    "1. The green histogram is the empirical distribution of photon counts over many simulated exposures.\n",
    "2. The red dashed curve is the Poisson formula with $\\lambda = \\text{(rate)} \\times \\text{(time)} = 30$.\n",
    "3. Mean = 12 and variance = 12.\n",
    "   If you measure the sample mean and sample variance, they should be close to 30 each."
   ]
  },
  {
   "cell_type": "markdown",
   "id": "34",
   "metadata": {},
   "source": [
    "### Gaussian (Normal) Distribution\n",
    "\n",
    "The Gaussian (Normal) distribution has density:\n",
    "\\begin{align}\n",
    "  p(x) = \\frac{1}{\\sqrt{2\\pi}\\,\\sigma} \\exp\\!\\left[-\\frac{(x-\\mu)^2}{2\\sigma^2}\\right].\n",
    "\\end{align}\n",
    "It is fully characterized by:\n",
    "* Mean $\\mu$ and\n",
    "* Variance $\\sigma^2$.\n",
    "\n",
    "We have already encountered the Central Limit Theorem (CLT) in a previous section, which explains why sums or averages of many IID random variables tend to a Gaussian distribution.\n",
    "This is the deepest reason behind its ubiquity in physics for modeling errors and aggregates."
   ]
  },
  {
   "cell_type": "markdown",
   "id": "35",
   "metadata": {},
   "source": [
    "Real-World Usage:\n",
    "* Measurement Noise:\n",
    "  Instrumentation errors are often approximated by a normal distribution, especially when many small independent factors add up.\n",
    "* Thermal Fluctuations:\n",
    "  Velocities of particles in an ideal gas are normally distributed along each Cartesian axis (Maxwell–Boltzmann distribution is related)."
   ]
  },
  {
   "cell_type": "code",
   "execution_count": null,
   "id": "36",
   "metadata": {},
   "outputs": [],
   "source": [
    "# Demo: Random Measurement Errors\n",
    "\n",
    "from scipy.stats import norm"
   ]
  },
  {
   "cell_type": "code",
   "execution_count": null,
   "id": "37",
   "metadata": {},
   "outputs": [],
   "source": [
    "flux = 100.0  # some arbitrary \"true\" flux units\n",
    "std  = 5.0    # typical measurement error\n",
    "\n",
    "n_sample = 10_000\n",
    "fluxes = flux + np.random.normal(scale=std, size=n_sample)"
   ]
  },
  {
   "cell_type": "code",
   "execution_count": null,
   "id": "38",
   "metadata": {},
   "outputs": [],
   "source": [
    "plt.hist(fluxes, bins=100, density=True, label='Samples')\n",
    "\n",
    "# Overlay theoretical normal pdf\n",
    "xs = np.linspace(\n",
    "    min(fluxes)-3*std, \n",
    "    max(fluxes)+3*std, \n",
    "    201\n",
    ")\n",
    "pdf = norm.pdf(xs, loc=flux, scale=std)\n",
    "plt.plot(xs, pdf, label='True Gaussian PDF')\n",
    "\n",
    "plt.title(\"Star Brightness Measurements ~ Gaussian Noise\")\n",
    "plt.xlabel(\"Measured Brightness\")\n",
    "plt.ylabel(\"Normalized Frequency\")\n",
    "plt.legend()"
   ]
  },
  {
   "cell_type": "markdown",
   "id": "39",
   "metadata": {},
   "source": [
    "Interpretation\n",
    "1. Each measurement is the star's true brightness $\\mu = 100$ plus a random error from $\\mathcal{N}(0, 5^2)$.\n",
    "2. The resulting histogram approximates a bell curve, well described by the overlaid theoretical pdf.\n",
    "3. The measured mean and standard deviation should be close to 100 and 5."
   ]
  },
  {
   "cell_type": "markdown",
   "id": "40",
   "metadata": {},
   "source": [
    "## Parameter Estimation & Sample Statistics\n",
    "\n",
    "### Sample Mean & Sample Variance\n",
    "\n",
    "Let $\\{X_1, X_2, \\dots, X_n\\}$ be IID samples from some distribution with (unknown) population mean $\\mu$ and variance $\\sigma^2$.\n",
    "Two fundamental statistics are:\n",
    "\n",
    "1. **Sample Mean**  \n",
    "   \\begin{align}\n",
    "     \\bar{X} = \\frac{1}{n}\\,\\sum_{i=1}^n X_i,\n",
    "   \\end{align}\n",
    "   where $\\bar{X}$ estimates the true mean $\\mu$.\n",
    "   By the CLT, for large $n$, $\\bar{X}$ is roughly normal with standard deviation $\\sigma / \\sqrt{n}$."
   ]
  },
  {
   "cell_type": "markdown",
   "id": "41",
   "metadata": {},
   "source": [
    "2. **Sample Variance** (with Bessel's correction):\n",
    "   \\begin{align}\n",
    "   S^2 = \\frac{1}{n - 1}\\,\\sum_{i=1}^n \\left(X_i - \\bar{X}\\right)^2.\n",
    "   \\end{align}\n",
    "   Dividing by $(n-1)$ rather than $n$ makes $S^2$ an **unbiased** estimator of $\\sigma^2$.\n",
    "\n",
    "Below is a snippet that repeatedly samples from a known Gaussian to compare the **average sample variance** when dividing by $n$ vs. dividing by $(n-1)$."
   ]
  },
  {
   "cell_type": "code",
   "execution_count": null,
   "id": "42",
   "metadata": {},
   "outputs": [],
   "source": [
    "# True parameters\n",
    "true_mean = 10.0\n",
    "true_sigma = 2.0\n",
    "true_var   = true_sigma**2\n",
    "\n",
    "n_sample = [10, 100, 1000, 10000]\n",
    "n_sims = 10_000  # Repeat \"experiments\" this many times per sample size"
   ]
  },
  {
   "cell_type": "code",
   "execution_count": null,
   "id": "43",
   "metadata": {},
   "outputs": [],
   "source": [
    "print(\"Bessel's Correction Demo\")\n",
    "print(\"-------------------------------------------------------------\")\n",
    "print(f\"True Variance = {true_var:.6f}\\n\")\n",
    "\n",
    "for n in n_sample:\n",
    "    var_biased = []\n",
    "    var        = []\n",
    "    \n",
    "    for _ in range(n_sims):\n",
    "        data = np.random.normal(loc=true_mean, scale=true_sigma, size=n)\n",
    "        \n",
    "        # Sample variance with ddof=0 (divide by n)\n",
    "        var_biased_j = np.var(data, ddof=0)\n",
    "        # Sample variance with ddof=1 (divide by n-1)\n",
    "        var_j        = np.var(data, ddof=1)\n",
    "        \n",
    "        var_biased.append(var_biased_j)\n",
    "        var       .append(var_j)\n",
    "\n",
    "    var_biased = np.mean(var_biased)\n",
    "    var        = np.mean(var)\n",
    "\n",
    "    print(f\"Sample size n={n}:\")\n",
    "    print(f\"  Mean var (divide by n)     = {var_biased:.6f}\")\n",
    "    print(f\"  Mean var (divide by n-1)   = {var       :.6f}\\n\")"
   ]
  },
  {
   "cell_type": "markdown",
   "id": "44",
   "metadata": {},
   "source": [
    "### Maximum Likelihood Estimation (MLE)\n",
    "\n",
    "The Maximum Likelihood approach generalizes the idea of using sample mean/variance for any parametric distribution.\n",
    "\n",
    "Given data ${x_1,\\dots,x_n}$ and a model $p(x \\mid \\theta)$ with unknown parameter(s) $\\theta$:\n",
    "1. Likelihood Function:\n",
    "   \\begin{align}\n",
    "     \\mathcal{L}(\\theta) = \\prod_{i=1}^n p(x_i;\\theta).\n",
    "   \\end{align}\n",
    "2. Log-Likelihood:\n",
    "   \\begin{align}\n",
    "     \\ell(\\theta) = \\ln\\mathcal{L}(\\theta) = \\sum_{i=1}^n \\ln p(x_i;\\theta).\n",
    "   \\end{align}\n",
    "3. MLE:\n",
    "   \\begin{align}\n",
    "     \\hat{\\theta}_{\\mathrm{MLE}} = \\underset{\\theta}{\\mathrm{arg\\,max}}\\,\\mathcal{L}(\\theta).\n",
    "   \\end{align}\n",
    "   Equivalently, it often suffices to maximize $\\ell(\\theta)$ because $\\ln$ is monotonic."
   ]
  },
  {
   "cell_type": "markdown",
   "id": "45",
   "metadata": {},
   "source": [
    "For a specific case with a Poisson distribution\n",
    "\\begin{align}\n",
    "  p(x_i;\\lambda) = \\frac{\\lambda^{x_i} e^{-\\lambda}}{x_i!}\n",
    "\\end{align}\n",
    "the log-likelihood is\n",
    "\\begin{align}\n",
    "\\ell(\\lambda) = \\sum_{i=1}^n \\left[x_i \\ln\\lambda - \\lambda - \\ln(x_i!)\\right].\n",
    "\\end{align}\n",
    "Setting derivative = 0 leads to $\\lambda = \\sum x_i/n$.\n",
    "In other words, the average of the counts."
   ]
  },
  {
   "cell_type": "markdown",
   "id": "46",
   "metadata": {},
   "source": [
    "### Confidence Intervals\n",
    "\n",
    "In frequentist statistics, a **confidence interval (CI)** provides a range of parameter values that are not inconsistent with observed data, under a particular confidence level (e.g., 90%, 95%, or 99%).\n",
    "A common misconception is that \"there's a 95% probability the parameter lies in my observed interval.\"\n",
    "Instead, the statement is:\n",
    "if we repeated the same experiment many times, we would expect about 95% of those constructed intervals to contain the true parameter."
   ]
  },
  {
   "cell_type": "markdown",
   "id": "47",
   "metadata": {},
   "source": [
    "1. **Coverage vs. Probability**  \n",
    "   A 95% CI \"covers\" the true parameter 95% of the time if we repeated the sampling *many* times.\n",
    "   It does **not** say there's a 95% probability that the **specific** interval from this single dataset contains the true value.\n",
    "\n",
    "3. **Boundary & Discrete Issues**  \n",
    "   Negative lower bounds can appear in naive normal-based intervals for rates or proportions that must be $\\ge 0$.\n",
    "   Special intervals avoid this problem.\n",
    "\n",
    "4. **Small Samples**  \n",
    "   With few observations, normal approximations can be poor.\n",
    "   T-distributions or exact methods generally yield more reliable intervals.\n",
    "\n",
    "5. **Bias in the Data**  \n",
    "   Even if the CI construction is correct, it only reflects the variation in the sampled data.\n",
    "   Bias or other systematic omissions can make the sample unrepresentative, invalidating the CI in practice."
   ]
  },
  {
   "cell_type": "markdown",
   "id": "48",
   "metadata": {},
   "source": [
    "## Bias in Data Modeling\n",
    "\n",
    "A **biased** dataset or measurement process can lead you to completely wrong conclusions about your parameters, even if you use sophisticated statistical techniques.\n",
    "One of the most striking examples is **Survivorship Bias**---famously illustrated by WWII bomber analyses."
   ]
  },
  {
   "cell_type": "markdown",
   "id": "49",
   "metadata": {},
   "source": [
    "### Survivorship Bias Example\n",
    "\n",
    "Imagine a WWII bomber returning from a mission.\n",
    "You observe bullet holes scattered around its fuselage:\n",
    "![A simplified WWII bomber diagram](https://upload.wikimedia.org/wikipedia/commons/b/b2/Survivorship-bias.svg)\n",
    "\n",
    "Observations:\n",
    "* The returning bomber has bullet holes in certain regions.\n",
    "* Some areas have many holes, some have fewer.\n",
    "\n",
    "Question: If you can add armor to only certain spots, **where** do you reinforce the airplane?*"
   ]
  },
  {
   "cell_type": "markdown",
   "id": "50",
   "metadata": {},
   "source": [
    "**Common Initial Thought**:\n",
    "Reinforce where you see the most bullet holes—those spots must be especially vulnerable."
   ]
  },
  {
   "cell_type": "markdown",
   "id": "51",
   "metadata": {},
   "source": [
    "**But**:\n",
    "The bombers you see are the ones that **survived**.\n",
    "Bombers with bullet holes in more critical places **didn't return** and thus are **missing** from your analysis!"
   ]
  },
  {
   "cell_type": "markdown",
   "id": "52",
   "metadata": {},
   "source": [
    "**Abraham Wald**, a statistician, famously recognized that areas **without** bullet holes on returning planes were actually the vulnerable spots on *all* planes.\n",
    "Those are where hits are fatal and cause the plane to be lost.\n",
    "This systematic omission of \"non-survivors\" is the essence of **Survivorship Bias**."
   ]
  },
  {
   "cell_type": "markdown",
   "id": "53",
   "metadata": {},
   "source": [
    "### What Is Survivorship Bias?\n",
    "\n",
    "Survivorship Bias arises when you focus only on the units that made it through some process (planes that returned, products that sold well, cosmic sources above a detection threshold, etc.), but ignore those that failed or fell below your selection criterion.\n",
    "Consequently, your sample can appear to show:\n",
    "* Higher durability or performance than is true for the full population.  \n",
    "* Missing \"fatal flaws\" that caused other items in the population to drop out.  \n",
    "* A systematically skewed distribution or parameter estimate, because the data you see do **not** represent the entire population."
   ]
  },
  {
   "cell_type": "markdown",
   "id": "54",
   "metadata": {},
   "source": [
    "### Why Bias Matters in Data Modeling\n",
    "\n",
    "Even the most elegant statistical methods assume that your data are reasonably representative of the population or the experiment you intend to study.\n",
    "If the dataset is biased, you can end up with:\n",
    "\n",
    "1. **Incorrect Parameter Estimates**:\n",
    "   E.g., overestimating average galaxy brightness because only bright galaxies make it into your catalog (the faint ones “didn’t survive” the detection limit).\n",
    "\n",
    "2. **Misleading Hypothesis Tests**:\n",
    "   E.g., concluding your device is extremely reliable if you only track units that have not yet failed, ignoring those that are out of commission.\n",
    "\n",
    "3. **Flawed Modeling Decisions**:\n",
    "   E.g., Designing a protective measure (armor or shielding) for only the areas you see damaged, when the real vulnerabilities are in the places that caused total loss or non-detection."
   ]
  },
  {
   "cell_type": "markdown",
   "id": "55",
   "metadata": {},
   "source": [
    "### Other Forms of Bias\n",
    "\n",
    "* **Selection Bias**: Non-random selection of units or events.\n",
    "* **Observer Bias**: Tendency to see what you expect.\n",
    "* **Detection Thresholds**: Missing dim or low-energy events leads to incomplete samples."
   ]
  },
  {
   "cell_type": "markdown",
   "id": "56",
   "metadata": {},
   "source": [
    "### Physics & Astronomy Examples\n",
    "\n",
    "1. **Galaxy Surveys**  \n",
    "   * **Situation**:    Only galaxies above some brightness (or signal-to-noise) threshold are cataloged.  \n",
    "   * **Survivorship**: Faint, smaller, or more distant galaxies \"don’t survive\" the detection pipeline.  \n",
    "   * **Consequence**:  If you compute the “typical galaxy brightness” from these data, you might incorrectly conclude galaxies are generally very bright.\n",
    "\n",
    "2. **Particle Energy Experiments**  \n",
    "   * **Situation**:    A detector triggers only when the signal is above a set energy.  \n",
    "   * **Survivorship**: Low-energy collisions never enter your dataset.  \n",
    "   * **Consequence**:  The average energy in your sample is overestimated; it looks like “collisions are always high-energy.”\n",
    "\n",
    "3. **Radioactive Decay Measurements**  \n",
    "   * **Situation**:    You measure isotopes in a sample after a certain time.  \n",
    "   * **Survivorship**: Short-lived isotopes already decayed; only longer-lived ones remain.  \n",
    "   * **Consequence**:  The measured half-life distribution is shifted, inflating average lifetimes."
   ]
  },
  {
   "cell_type": "markdown",
   "id": "57",
   "metadata": {},
   "source": [
    "### Mitigating Survivorship Bias\n",
    "\n",
    "1. **Understand Selection Effects**:\n",
    "   Determine how data are \"filtered\" or lost.\n",
    "   Construct a detection probability function if possible (like a completeness function in astronomy).\n",
    "\n",
    "2. **Instrument / Threshold Adjustments**:\n",
    "   Lower detection thresholds or gather deeper observations to include the \"non-survivors\" in the sample.\n",
    "\n",
    "3. **Statistical Methods**:\n",
    "   If some non-detections (or \"failures\") are known but unmeasured, incorporate partial data or censored data approaches (e.g., survival analysis in medical stats, but applicable to physics lifetimes).\n",
    "\n",
    "4. **Cross-Validation**:\n",
    "   Obtain data from multiple instruments or experiments to see if missing elements in one dataset appear in another."
   ]
  }
 ],
 "metadata": {
  "kernelspec": {
   "display_name": "Python 3",
   "language": "python",
   "name": "python3"
  },
  "language_info": {
   "codemirror_mode": {
    "name": "ipython",
    "version": 3
   },
   "file_extension": ".py",
   "mimetype": "text/x-python",
   "name": "python",
   "nbconvert_exporter": "python",
   "pygments_lexer": "ipython3",
   "version": "3.12.1"
  }
 },
 "nbformat": 4,
 "nbformat_minor": 5
}
